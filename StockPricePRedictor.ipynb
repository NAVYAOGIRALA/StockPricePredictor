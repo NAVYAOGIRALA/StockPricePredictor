{
 "cells": [
  {
   "cell_type": "code",
   "execution_count": 2,
   "metadata": {},
   "outputs": [],
   "source": [
    "#Stock Price predictor\n",
    "import pandas as pd\n",
    "import numpy as np\n",
    "import matplotlib.pyplot as plt\n",
    "import seaborn as sns\n",
    "%matplotlib inline"
   ]
  },
  {
   "cell_type": "code",
   "execution_count": 3,
   "metadata": {},
   "outputs": [
    {
     "data": {
      "text/html": [
       "<div>\n",
       "<style scoped>\n",
       "    .dataframe tbody tr th:only-of-type {\n",
       "        vertical-align: middle;\n",
       "    }\n",
       "\n",
       "    .dataframe tbody tr th {\n",
       "        vertical-align: top;\n",
       "    }\n",
       "\n",
       "    .dataframe thead th {\n",
       "        text-align: right;\n",
       "    }\n",
       "</style>\n",
       "<table border=\"1\" class=\"dataframe\">\n",
       "  <thead>\n",
       "    <tr style=\"text-align: right;\">\n",
       "      <th></th>\n",
       "      <th>Open</th>\n",
       "      <th>High</th>\n",
       "      <th>Low</th>\n",
       "      <th>Close</th>\n",
       "      <th>Adj Close</th>\n",
       "      <th>Volume</th>\n",
       "    </tr>\n",
       "    <tr>\n",
       "      <th>Date</th>\n",
       "      <th></th>\n",
       "      <th></th>\n",
       "      <th></th>\n",
       "      <th></th>\n",
       "      <th></th>\n",
       "      <th></th>\n",
       "    </tr>\n",
       "  </thead>\n",
       "  <tbody>\n",
       "    <tr>\n",
       "      <th>2014-02-25</th>\n",
       "      <td>30.284985</td>\n",
       "      <td>30.498184</td>\n",
       "      <td>30.147499</td>\n",
       "      <td>30.386105</td>\n",
       "      <td>30.386105</td>\n",
       "      <td>57763704</td>\n",
       "    </tr>\n",
       "    <tr>\n",
       "      <th>2014-02-26</th>\n",
       "      <td>30.485731</td>\n",
       "      <td>30.607277</td>\n",
       "      <td>30.230688</td>\n",
       "      <td>30.390341</td>\n",
       "      <td>30.390341</td>\n",
       "      <td>79585191</td>\n",
       "    </tr>\n",
       "    <tr>\n",
       "      <th>2014-02-27</th>\n",
       "      <td>30.346006</td>\n",
       "      <td>30.491461</td>\n",
       "      <td>30.311634</td>\n",
       "      <td>30.366428</td>\n",
       "      <td>30.366428</td>\n",
       "      <td>50588912</td>\n",
       "    </tr>\n",
       "    <tr>\n",
       "      <th>2014-02-28</th>\n",
       "      <td>30.394573</td>\n",
       "      <td>30.490463</td>\n",
       "      <td>30.042892</td>\n",
       "      <td>30.277761</td>\n",
       "      <td>30.277761</td>\n",
       "      <td>92890878</td>\n",
       "    </tr>\n",
       "    <tr>\n",
       "      <th>2014-03-03</th>\n",
       "      <td>30.056091</td>\n",
       "      <td>30.083241</td>\n",
       "      <td>29.692205</td>\n",
       "      <td>29.954971</td>\n",
       "      <td>29.954971</td>\n",
       "      <td>84507572</td>\n",
       "    </tr>\n",
       "  </tbody>\n",
       "</table>\n",
       "</div>"
      ],
      "text/plain": [
       "                 Open       High        Low      Close  Adj Close    Volume\n",
       "Date                                                                       \n",
       "2014-02-25  30.284985  30.498184  30.147499  30.386105  30.386105  57763704\n",
       "2014-02-26  30.485731  30.607277  30.230688  30.390341  30.390341  79585191\n",
       "2014-02-27  30.346006  30.491461  30.311634  30.366428  30.366428  50588912\n",
       "2014-02-28  30.394573  30.490463  30.042892  30.277761  30.277761  92890878\n",
       "2014-03-03  30.056091  30.083241  29.692205  29.954971  29.954971  84507572"
      ]
     },
     "execution_count": 3,
     "metadata": {},
     "output_type": "execute_result"
    }
   ],
   "source": [
    "# data set downloaded from \"https://finance.yahoo.com/quote/GOOG/history\"\n",
    "data = pd.read_csv('GOOG.csv')\n",
    "data = data.set_index('Date')\n",
    "data.head()\n"
   ]
  },
  {
   "cell_type": "code",
   "execution_count": 4,
   "metadata": {},
   "outputs": [
    {
     "name": "stdout",
     "output_type": "stream",
     "text": [
      "<class 'pandas.core.frame.DataFrame'>\n",
      "Index: 2517 entries, 2014-02-25 to 2024-02-23\n",
      "Data columns (total 6 columns):\n",
      " #   Column     Non-Null Count  Dtype  \n",
      "---  ------     --------------  -----  \n",
      " 0   Open       2517 non-null   float64\n",
      " 1   High       2517 non-null   float64\n",
      " 2   Low        2517 non-null   float64\n",
      " 3   Close      2517 non-null   float64\n",
      " 4   Adj Close  2517 non-null   float64\n",
      " 5   Volume     2517 non-null   int64  \n",
      "dtypes: float64(5), int64(1)\n",
      "memory usage: 137.6+ KB\n"
     ]
    }
   ],
   "source": [
    "data.info()"
   ]
  },
  {
   "cell_type": "code",
   "execution_count": 5,
   "metadata": {},
   "outputs": [
    {
     "data": {
      "text/plain": [
       "Open         0\n",
       "High         0\n",
       "Low          0\n",
       "Close        0\n",
       "Adj Close    0\n",
       "Volume       0\n",
       "dtype: int64"
      ]
     },
     "execution_count": 5,
     "metadata": {},
     "output_type": "execute_result"
    }
   ],
   "source": [
    "data.isnull().sum()"
   ]
  },
  {
   "cell_type": "code",
   "execution_count": 6,
   "metadata": {},
   "outputs": [
    {
     "data": {
      "text/plain": [
       "(2517, 6)"
      ]
     },
     "execution_count": 6,
     "metadata": {},
     "output_type": "execute_result"
    }
   ],
   "source": [
    "data.shape"
   ]
  },
  {
   "cell_type": "code",
   "execution_count": 7,
   "metadata": {},
   "outputs": [
    {
     "data": {
      "image/png": "[encoded data removed]",
      "text/plain": [
       "<Figure size 640x480 with 1 Axes>"
      ]
     },
     "metadata": {},
     "output_type": "display_data"
    }
   ],
   "source": [
    "plt.plot(data['Close'],color='b')\n",
    "plt.ylabel(\"Price\")\n",
    "plt.xlabel(\"year\")\n",
    "plt.show()"
   ]
  },
  {
   "cell_type": "code",
   "execution_count": 8,
   "metadata": {},
   "outputs": [
    {
     "name": "stderr",
     "output_type": "stream",
     "text": [
      "C:\\Users\\ogira\\AppData\\Roaming\\Python\\Python311\\site-packages\\seaborn\\axisgrid.py:123: UserWarning: The figure layout has changed to tight\n",
      "  self._figure.tight_layout(*args, **kwargs)\n"
     ]
    },
    {
     "data": {
      "text/plain": [
       "<seaborn.axisgrid.FacetGrid at 0x136d4e4e890>"
      ]
     },
     "execution_count": 8,
     "metadata": {},
     "output_type": "execute_result"
    },
    {
     "data": {
      "image/png": "[encoded data removed]",
      "text/plain": [
       "<Figure size 500x500 with 1 Axes>"
      ]
     },
     "metadata": {},
     "output_type": "display_data"
    }
   ],
   "source": [
    "sns.displot(data['Close'])"
   ]
  },
  {
   "cell_type": "code",
   "execution_count": 9,
   "metadata": {},
   "outputs": [
    {
     "name": "stderr",
     "output_type": "stream",
     "text": [
      "C:\\Users\\ogira\\AppData\\Roaming\\Python\\Python311\\site-packages\\seaborn\\axisgrid.py:123: UserWarning: The figure layout has changed to tight\n",
      "  self._figure.tight_layout(*args, **kwargs)\n"
     ]
    },
    {
     "data": {
      "text/plain": [
       "<seaborn.axisgrid.FacetGrid at 0x136d88ce890>"
      ]
     },
     "execution_count": 9,
     "metadata": {},
     "output_type": "execute_result"
    },
    {
     "data": {
      "image/png": "[encoded data removed]",
      "text/plain": [
       "<Figure size 500x500 with 1 Axes>"
      ]
     },
     "metadata": {},
     "output_type": "display_data"
    }
   ],
   "source": [
    "sns.displot(data['Open'])"
   ]
  },
  {
   "cell_type": "code",
   "execution_count": 10,
   "metadata": {},
   "outputs": [
    {
     "name": "stderr",
     "output_type": "stream",
     "text": [
      "C:\\Users\\ogira\\AppData\\Roaming\\Python\\Python311\\site-packages\\seaborn\\axisgrid.py:123: UserWarning: The figure layout has changed to tight\n",
      "  self._figure.tight_layout(*args, **kwargs)\n"
     ]
    },
    {
     "data": {
      "text/plain": [
       "<seaborn.axisgrid.FacetGrid at 0x136d7255c50>"
      ]
     },
     "execution_count": 10,
     "metadata": {},
     "output_type": "execute_result"
    },
    {
     "data": {
      "image/png": "[encoded data removed]",
      "text/plain": [
       "<Figure size 500x500 with 1 Axes>"
      ]
     },
     "metadata": {},
     "output_type": "display_data"
    }
   ],
   "source": [
    "sns.displot(data['High'])"
   ]
  },
  {
   "cell_type": "code",
   "execution_count": 11,
   "metadata": {},
   "outputs": [
    {
     "name": "stderr",
     "output_type": "stream",
     "text": [
      "C:\\Users\\ogira\\AppData\\Roaming\\Python\\Python311\\site-packages\\seaborn\\axisgrid.py:123: UserWarning: The figure layout has changed to tight\n",
      "  self._figure.tight_layout(*args, **kwargs)\n"
     ]
    },
    {
     "data": {
      "text/plain": [
       "<seaborn.axisgrid.FacetGrid at 0x136d777e890>"
      ]
     },
     "execution_count": 11,
     "metadata": {},
     "output_type": "execute_result"
    },
    {
     "data": {
      "image/png": "[encoded data removed]",
      "text/plain": [
       "<Figure size 500x500 with 1 Axes>"
      ]
     },
     "metadata": {},
     "output_type": "display_data"
    }
   ],
   "source": [
    "sns.displot(data['Low'])"
   ]
  },
  {
   "cell_type": "code",
   "execution_count": 12,
   "metadata": {},
   "outputs": [
    {
     "name": "stdout",
     "output_type": "stream",
     "text": [
      "(2139, 5)\n",
      "(378, 5)\n",
      "(2139,)\n",
      "(378,)\n"
     ]
    }
   ],
   "source": [
    "X=data.drop(\"Close\", axis=1)\n",
    "Y=data['Close']\n",
    "#Data Splitting\n",
    "from sklearn.model_selection import train_test_split\n",
    "X_train, X_test, Y_train, Y_test = train_test_split(X,Y,test_size=0.15,random_state=42)\n",
    "print(X_train.shape)\n",
    "print(X_test.shape)\n",
    "print(Y_train.shape)\n",
    "print(Y_test.shape)"
   ]
  },
  {
   "cell_type": "code",
   "execution_count": 13,
   "metadata": {},
   "outputs": [],
   "source": [
    "from sklearn.linear_model import LinearRegression\n",
    "lr = LinearRegression()\n",
    "lr.fit(X_train,Y_train)\n",
    "prediction = lr.predict(X_test)"
   ]
  },
  {
   "cell_type": "code",
   "execution_count": 14,
   "metadata": {},
   "outputs": [
    {
     "name": "stdout",
     "output_type": "stream",
     "text": [
      "94.169998\n",
      "94.16999800116655\n"
     ]
    }
   ],
   "source": [
    "print(Y_test[0])\n",
    "print(prediction[0])"
   ]
  },
  {
   "cell_type": "code",
   "execution_count": 15,
   "metadata": {},
   "outputs": [],
   "source": [
    "from sklearn.metrics import mean_squared_error, r2_score\n",
    "def evaluation_metrics(y_test,y_pred):\n",
    "    #mean square error\n",
    "    mse = mean_squared_error(y_test,y_pred)\n",
    "    print(\"MSE\",mse)\n",
    "    #root mean square error\n",
    "    rmse = np.sqrt(mse)\n",
    "    print(\"RMSE\",rmse)\n",
    "    #r2 score\n",
    "    r2_scor = r2_score(y_test,y_pred)\n",
    "    print(\"r2_Score\",r2_scor)"
   ]
  },
  {
   "cell_type": "code",
   "execution_count": 16,
   "metadata": {},
   "outputs": [
    {
     "name": "stdout",
     "output_type": "stream",
     "text": [
      "MSE 3.612358816363061e-18\n",
      "RMSE 1.9006206397814005e-09\n",
      "r2_Score 1.0\n"
     ]
    }
   ],
   "source": [
    "evaluation_metrics(Y_test,prediction)"
   ]
  },
  {
   "cell_type": "code",
   "execution_count": 17,
   "metadata": {},
   "outputs": [
    {
     "name": "stderr",
     "output_type": "stream",
     "text": [
      "C:\\Users\\ogira\\AppData\\Roaming\\Python\\Python311\\site-packages\\sklearn\\linear_model\\_coordinate_descent.py:628: ConvergenceWarning: Objective did not converge. You might want to increase the number of iterations, check the scale of the features or consider increasing regularisation. Duality gap: 7.539e+02, tolerance: 3.090e+02\n",
      "  model = cd_fast.enet_coordinate_descent(\n"
     ]
    }
   ],
   "source": [
    "from sklearn.linear_model import Lasso,Ridge\n",
    "la = Lasso().fit(X_train,Y_train)\n",
    "ri = Ridge().fit(X_train,Y_train)\n",
    "la_pred = la.predict(X_test)\n",
    "r_pred = ri.predict(X_test)"
   ]
  },
  {
   "cell_type": "code",
   "execution_count": 18,
   "metadata": {},
   "outputs": [
    {
     "name": "stdout",
     "output_type": "stream",
     "text": [
      "94.169998\n",
      "93.25809895034888\n",
      "94.1688751632784\n"
     ]
    }
   ],
   "source": [
    "print(Y_test[0])\n",
    "print(la_pred[0])\n",
    "print(r_pred[0])"
   ]
  },
  {
   "cell_type": "code",
   "execution_count": 19,
   "metadata": {},
   "outputs": [
    {
     "name": "stdout",
     "output_type": "stream",
     "text": [
      "MSE 0.4327782480352748\n",
      "RMSE 0.6578588359483171\n",
      "r2_Score 0.9997073541334717\n"
     ]
    }
   ],
   "source": [
    "#evaluation metrics for Lasso\n",
    "evaluation_metrics(Y_test,la_pred)"
   ]
  },
  {
   "cell_type": "code",
   "execution_count": 20,
   "metadata": {},
   "outputs": [
    {
     "name": "stdout",
     "output_type": "stream",
     "text": [
      "MSE 7.467792722636442e-07\n",
      "RMSE 0.0008641639151594125\n",
      "r2_Score 0.9999999994950257\n"
     ]
    }
   ],
   "source": [
    "#evaluation metrics for Ridge\n",
    "evaluation_metrics(Y_test,r_pred)"
   ]
  },
  {
   "cell_type": "code",
   "execution_count": 21,
   "metadata": {},
   "outputs": [
    {
     "name": "stdout",
     "output_type": "stream",
     "text": [
      "Fitting 5 folds for each of 16 candidates, totalling 80 fits\n"
     ]
    },
    {
     "name": "stdout",
     "output_type": "stream",
     "text": [
      "[CV 1/5] END .......C=0.1, gamma=1, kernel=rbf;, score=-0.100 total time=   0.3s\n",
      "[CV 2/5] END .......C=0.1, gamma=1, kernel=rbf;, score=-0.099 total time=   0.2s\n",
      "[CV 3/5] END .......C=0.1, gamma=1, kernel=rbf;, score=-0.132 total time=   0.1s\n",
      "[CV 4/5] END .......C=0.1, gamma=1, kernel=rbf;, score=-0.086 total time=   0.2s\n",
      "[CV 5/5] END .......C=0.1, gamma=1, kernel=rbf;, score=-0.160 total time=   0.1s\n",
      "[CV 1/5] END .....C=0.1, gamma=0.1, kernel=rbf;, score=-0.100 total time=   0.2s\n",
      "[CV 2/5] END .....C=0.1, gamma=0.1, kernel=rbf;, score=-0.099 total time=   0.1s\n",
      "[CV 3/5] END .....C=0.1, gamma=0.1, kernel=rbf;, score=-0.132 total time=   0.1s\n",
      "[CV 4/5] END .....C=0.1, gamma=0.1, kernel=rbf;, score=-0.086 total time=   0.2s\n",
      "[CV 5/5] END .....C=0.1, gamma=0.1, kernel=rbf;, score=-0.160 total time=   0.2s\n",
      "[CV 1/5] END ....C=0.1, gamma=0.01, kernel=rbf;, score=-0.100 total time=   0.1s\n",
      "[CV 2/5] END ....C=0.1, gamma=0.01, kernel=rbf;, score=-0.099 total time=   0.2s\n",
      "[CV 3/5] END ....C=0.1, gamma=0.01, kernel=rbf;, score=-0.132 total time=   0.1s\n",
      "[CV 4/5] END ....C=0.1, gamma=0.01, kernel=rbf;, score=-0.086 total time=   0.2s\n",
      "[CV 5/5] END ....C=0.1, gamma=0.01, kernel=rbf;, score=-0.160 total time=   0.1s\n",
      "[CV 1/5] END ...C=0.1, gamma=0.001, kernel=rbf;, score=-0.100 total time=   0.1s\n",
      "[CV 2/5] END ...C=0.1, gamma=0.001, kernel=rbf;, score=-0.099 total time=   0.2s\n",
      "[CV 3/5] END ...C=0.1, gamma=0.001, kernel=rbf;, score=-0.132 total time=   0.1s\n",
      "[CV 4/5] END ...C=0.1, gamma=0.001, kernel=rbf;, score=-0.086 total time=   0.1s\n",
      "[CV 5/5] END ...C=0.1, gamma=0.001, kernel=rbf;, score=-0.160 total time=   0.2s\n",
      "[CV 1/5] END .........C=1, gamma=1, kernel=rbf;, score=-0.100 total time=   0.2s\n",
      "[CV 2/5] END .........C=1, gamma=1, kernel=rbf;, score=-0.099 total time=   0.2s\n",
      "[CV 3/5] END .........C=1, gamma=1, kernel=rbf;, score=-0.132 total time=   0.1s\n",
      "[CV 4/5] END .........C=1, gamma=1, kernel=rbf;, score=-0.088 total time=   0.2s\n",
      "[CV 5/5] END .........C=1, gamma=1, kernel=rbf;, score=-0.161 total time=   0.2s\n",
      "[CV 1/5] END .......C=1, gamma=0.1, kernel=rbf;, score=-0.100 total time=   0.2s\n",
      "[CV 2/5] END .......C=1, gamma=0.1, kernel=rbf;, score=-0.099 total time=   0.1s\n",
      "[CV 3/5] END .......C=1, gamma=0.1, kernel=rbf;, score=-0.132 total time=   0.2s\n",
      "[CV 4/5] END .......C=1, gamma=0.1, kernel=rbf;, score=-0.088 total time=   0.2s\n",
      "[CV 5/5] END .......C=1, gamma=0.1, kernel=rbf;, score=-0.161 total time=   0.1s\n",
      "[CV 1/5] END ......C=1, gamma=0.01, kernel=rbf;, score=-0.100 total time=   0.1s\n",
      "[CV 2/5] END ......C=1, gamma=0.01, kernel=rbf;, score=-0.098 total time=   0.2s\n",
      "[CV 3/5] END ......C=1, gamma=0.01, kernel=rbf;, score=-0.132 total time=   0.2s\n",
      "[CV 4/5] END ......C=1, gamma=0.01, kernel=rbf;, score=-0.087 total time=   0.2s\n",
      "[CV 5/5] END ......C=1, gamma=0.01, kernel=rbf;, score=-0.161 total time=   0.1s\n",
      "[CV 1/5] END .....C=1, gamma=0.001, kernel=rbf;, score=-0.100 total time=   0.2s\n",
      "[CV 2/5] END .....C=1, gamma=0.001, kernel=rbf;, score=-0.098 total time=   0.1s\n",
      "[CV 3/5] END .....C=1, gamma=0.001, kernel=rbf;, score=-0.131 total time=   0.2s\n",
      "[CV 4/5] END .....C=1, gamma=0.001, kernel=rbf;, score=-0.087 total time=   0.2s\n",
      "[CV 5/5] END .....C=1, gamma=0.001, kernel=rbf;, score=-0.160 total time=   0.1s\n",
      "[CV 1/5] END ........C=10, gamma=1, kernel=rbf;, score=-0.088 total time=   0.1s\n",
      "[CV 2/5] END ........C=10, gamma=1, kernel=rbf;, score=-0.084 total time=   0.1s\n",
      "[CV 3/5] END ........C=10, gamma=1, kernel=rbf;, score=-0.120 total time=   0.1s\n",
      "[CV 4/5] END ........C=10, gamma=1, kernel=rbf;, score=-0.075 total time=   0.2s\n",
      "[CV 5/5] END ........C=10, gamma=1, kernel=rbf;, score=-0.147 total time=   0.2s\n",
      "[CV 1/5] END ......C=10, gamma=0.1, kernel=rbf;, score=-0.087 total time=   0.2s\n",
      "[CV 2/5] END ......C=10, gamma=0.1, kernel=rbf;, score=-0.083 total time=   0.1s\n",
      "[CV 3/5] END ......C=10, gamma=0.1, kernel=rbf;, score=-0.119 total time=   0.2s\n",
      "[CV 4/5] END ......C=10, gamma=0.1, kernel=rbf;, score=-0.074 total time=   0.1s\n",
      "[CV 5/5] END ......C=10, gamma=0.1, kernel=rbf;, score=-0.147 total time=   0.2s\n",
      "[CV 1/5] END .....C=10, gamma=0.01, kernel=rbf;, score=-0.087 total time=   0.2s\n",
      "[CV 2/5] END .....C=10, gamma=0.01, kernel=rbf;, score=-0.079 total time=   0.2s\n",
      "[CV 3/5] END .....C=10, gamma=0.01, kernel=rbf;, score=-0.118 total time=   0.2s\n",
      "[CV 4/5] END .....C=10, gamma=0.01, kernel=rbf;, score=-0.070 total time=   0.1s\n",
      "[CV 5/5] END .....C=10, gamma=0.01, kernel=rbf;, score=-0.146 total time=   0.1s\n",
      "[CV 1/5] END ....C=10, gamma=0.001, kernel=rbf;, score=-0.084 total time=   0.2s\n",
      "[CV 2/5] END ....C=10, gamma=0.001, kernel=rbf;, score=-0.075 total time=   0.1s\n",
      "[CV 3/5] END ....C=10, gamma=0.001, kernel=rbf;, score=-0.114 total time=   0.1s\n",
      "[CV 4/5] END ....C=10, gamma=0.001, kernel=rbf;, score=-0.066 total time=   0.2s\n",
      "[CV 5/5] END ....C=10, gamma=0.001, kernel=rbf;, score=-0.143 total time=   0.1s\n",
      "[CV 1/5] END ........C=100, gamma=1, kernel=rbf;, score=0.002 total time=   0.2s\n",
      "[CV 2/5] END .......C=100, gamma=1, kernel=rbf;, score=-0.002 total time=   0.3s\n",
      "[CV 3/5] END .......C=100, gamma=1, kernel=rbf;, score=-0.001 total time=   0.2s\n",
      "[CV 4/5] END .......C=100, gamma=1, kernel=rbf;, score=-0.001 total time=   0.2s\n",
      "[CV 5/5] END .......C=100, gamma=1, kernel=rbf;, score=-0.000 total time=   0.2s\n",
      "[CV 1/5] END ......C=100, gamma=0.1, kernel=rbf;, score=0.005 total time=   0.3s\n",
      "[CV 2/5] END ......C=100, gamma=0.1, kernel=rbf;, score=0.005 total time=   0.2s\n",
      "[CV 3/5] END ......C=100, gamma=0.1, kernel=rbf;, score=0.001 total time=   0.2s\n",
      "[CV 4/5] END ......C=100, gamma=0.1, kernel=rbf;, score=0.005 total time=   0.2s\n",
      "[CV 5/5] END .....C=100, gamma=0.1, kernel=rbf;, score=-0.000 total time=   0.2s\n",
      "[CV 1/5] END .....C=100, gamma=0.01, kernel=rbf;, score=0.007 total time=   0.2s\n",
      "[CV 2/5] END .....C=100, gamma=0.01, kernel=rbf;, score=0.014 total time=   0.2s\n",
      "[CV 3/5] END .....C=100, gamma=0.01, kernel=rbf;, score=0.003 total time=   0.2s\n",
      "[CV 4/5] END .....C=100, gamma=0.01, kernel=rbf;, score=0.015 total time=   0.2s\n",
      "[CV 5/5] END .....C=100, gamma=0.01, kernel=rbf;, score=0.004 total time=   0.3s\n",
      "[CV 1/5] END ....C=100, gamma=0.001, kernel=rbf;, score=0.012 total time=   0.2s\n",
      "[CV 2/5] END ....C=100, gamma=0.001, kernel=rbf;, score=0.021 total time=   0.2s\n",
      "[CV 3/5] END ....C=100, gamma=0.001, kernel=rbf;, score=0.007 total time=   0.2s\n",
      "[CV 4/5] END ....C=100, gamma=0.001, kernel=rbf;, score=0.018 total time=   0.2s\n",
      "[CV 5/5] END ....C=100, gamma=0.001, kernel=rbf;, score=0.011 total time=   0.2s\n"
     ]
    },
    {
     "data": {
      "text/html": [
       "<style>#sk-container-id-1 {color: black;}#sk-container-id-1 pre{padding: 0;}#sk-container-id-1 div.sk-toggleable {background-color: white;}#sk-container-id-1 label.sk-toggleable__label {cursor: pointer;display: block;width: 100%;margin-bottom: 0;padding: 0.3em;box-sizing: border-box;text-align: center;}#sk-container-id-1 label.sk-toggleable__label-arrow:before {content: \"▸\";float: left;margin-right: 0.25em;color: #696969;}#sk-container-id-1 label.sk-toggleable__label-arrow:hover:before {color: black;}#sk-container-id-1 div.sk-estimator:hover label.sk-toggleable__label-arrow:before {color: black;}#sk-container-id-1 div.sk-toggleable__content {max-height: 0;max-width: 0;overflow: hidden;text-align: left;background-color: #f0f8ff;}#sk-container-id-1 div.sk-toggleable__content pre {margin: 0.2em;color: black;border-radius: 0.25em;background-color: #f0f8ff;}#sk-container-id-1 input.sk-toggleable__control:checked~div.sk-toggleable__content {max-height: 200px;max-width: 100%;overflow: auto;}#sk-container-id-1 input.sk-toggleable__control:checked~label.sk-toggleable__label-arrow:before {content: \"▾\";}#sk-container-id-1 div.sk-estimator input.sk-toggleable__control:checked~label.sk-toggleable__label {background-color: #d4ebff;}#sk-container-id-1 div.sk-label input.sk-toggleable__control:checked~label.sk-toggleable__label {background-color: #d4ebff;}#sk-container-id-1 input.sk-hidden--visually {border: 0;clip: rect(1px 1px 1px 1px);clip: rect(1px, 1px, 1px, 1px);height: 1px;margin: -1px;overflow: hidden;padding: 0;position: absolute;width: 1px;}#sk-container-id-1 div.sk-estimator {font-family: monospace;background-color: #f0f8ff;border: 1px dotted black;border-radius: 0.25em;box-sizing: border-box;margin-bottom: 0.5em;}#sk-container-id-1 div.sk-estimator:hover {background-color: #d4ebff;}#sk-container-id-1 div.sk-parallel-item::after {content: \"\";width: 100%;border-bottom: 1px solid gray;flex-grow: 1;}#sk-container-id-1 div.sk-label:hover label.sk-toggleable__label {background-color: #d4ebff;}#sk-container-id-1 div.sk-serial::before {content: \"\";position: absolute;border-left: 1px solid gray;box-sizing: border-box;top: 0;bottom: 0;left: 50%;z-index: 0;}#sk-container-id-1 div.sk-serial {display: flex;flex-direction: column;align-items: center;background-color: white;padding-right: 0.2em;padding-left: 0.2em;position: relative;}#sk-container-id-1 div.sk-item {position: relative;z-index: 1;}#sk-container-id-1 div.sk-parallel {display: flex;align-items: stretch;justify-content: center;background-color: white;position: relative;}#sk-container-id-1 div.sk-item::before, #sk-container-id-1 div.sk-parallel-item::before {content: \"\";position: absolute;border-left: 1px solid gray;box-sizing: border-box;top: 0;bottom: 0;left: 50%;z-index: -1;}#sk-container-id-1 div.sk-parallel-item {display: flex;flex-direction: column;z-index: 1;position: relative;background-color: white;}#sk-container-id-1 div.sk-parallel-item:first-child::after {align-self: flex-end;width: 50%;}#sk-container-id-1 div.sk-parallel-item:last-child::after {align-self: flex-start;width: 50%;}#sk-container-id-1 div.sk-parallel-item:only-child::after {width: 0;}#sk-container-id-1 div.sk-dashed-wrapped {border: 1px dashed gray;margin: 0 0.4em 0.5em 0.4em;box-sizing: border-box;padding-bottom: 0.4em;background-color: white;}#sk-container-id-1 div.sk-label label {font-family: monospace;font-weight: bold;display: inline-block;line-height: 1.2em;}#sk-container-id-1 div.sk-label-container {text-align: center;}#sk-container-id-1 div.sk-container {/* jupyter's `normalize.less` sets `[hidden] { display: none; }` but bootstrap.min.css set `[hidden] { display: none !important; }` so we also need the `!important` here to be able to override the default hidden behavior on the sphinx rendered scikit-learn.org. See: https://github.com/scikit-learn/scikit-learn/issues/21755 */display: inline-block !important;position: relative;}#sk-container-id-1 div.sk-text-repr-fallback {display: none;}</style><div id=\"sk-container-id-1\" class=\"sk-top-container\"><div class=\"sk-text-repr-fallback\"><pre>GridSearchCV(estimator=SVR(),\n",
       "             param_grid={&#x27;C&#x27;: [0.1, 1, 10, 100], &#x27;gamma&#x27;: [1, 0.1, 0.01, 0.001],\n",
       "                         &#x27;kernel&#x27;: [&#x27;rbf&#x27;]},\n",
       "             verbose=3)</pre><b>In a Jupyter environment, please rerun this cell to show the HTML representation or trust the notebook. <br />On GitHub, the HTML representation is unable to render, please try loading this page with nbviewer.org.</b></div><div class=\"sk-container\" hidden><div class=\"sk-item sk-dashed-wrapped\"><div class=\"sk-label-container\"><div class=\"sk-label sk-toggleable\"><input class=\"sk-toggleable__control sk-hidden--visually\" id=\"sk-estimator-id-1\" type=\"checkbox\" ><label for=\"sk-estimator-id-1\" class=\"sk-toggleable__label sk-toggleable__label-arrow\">GridSearchCV</label><div class=\"sk-toggleable__content\"><pre>GridSearchCV(estimator=SVR(),\n",
       "             param_grid={&#x27;C&#x27;: [0.1, 1, 10, 100], &#x27;gamma&#x27;: [1, 0.1, 0.01, 0.001],\n",
       "                         &#x27;kernel&#x27;: [&#x27;rbf&#x27;]},\n",
       "             verbose=3)</pre></div></div></div><div class=\"sk-parallel\"><div class=\"sk-parallel-item\"><div class=\"sk-item\"><div class=\"sk-label-container\"><div class=\"sk-label sk-toggleable\"><input class=\"sk-toggleable__control sk-hidden--visually\" id=\"sk-estimator-id-2\" type=\"checkbox\" ><label for=\"sk-estimator-id-2\" class=\"sk-toggleable__label sk-toggleable__label-arrow\">estimator: SVR</label><div class=\"sk-toggleable__content\"><pre>SVR()</pre></div></div></div><div class=\"sk-serial\"><div class=\"sk-item\"><div class=\"sk-estimator sk-toggleable\"><input class=\"sk-toggleable__control sk-hidden--visually\" id=\"sk-estimator-id-3\" type=\"checkbox\" ><label for=\"sk-estimator-id-3\" class=\"sk-toggleable__label sk-toggleable__label-arrow\">SVR</label><div class=\"sk-toggleable__content\"><pre>SVR()</pre></div></div></div></div></div></div></div></div></div></div>"
      ],
      "text/plain": [
       "GridSearchCV(estimator=SVR(),\n",
       "             param_grid={'C': [0.1, 1, 10, 100], 'gamma': [1, 0.1, 0.01, 0.001],\n",
       "                         'kernel': ['rbf']},\n",
       "             verbose=3)"
      ]
     },
     "execution_count": 21,
     "metadata": {},
     "output_type": "execute_result"
    }
   ],
   "source": [
    "from sklearn.svm import SVR\n",
    "from sklearn.model_selection import GridSearchCV\n",
    "\n",
    "parameter_grid = {\n",
    "    'C' : [0.1, 1, 10, 100],\n",
    "    'gamma' : [1, 0.1, 0.01, 0.001],\n",
    "    'kernel' : ['rbf']\n",
    "}\n",
    "grid = GridSearchCV(SVR(),parameter_grid,refit = True, verbose=3)\n",
    "grid.fit(X_train,Y_train)"
   ]
  },
  {
   "cell_type": "code",
   "execution_count": 22,
   "metadata": {},
   "outputs": [],
   "source": [
    "svr =SVR(C=100, gamma=0.001, kernel='rbf')\n",
    "svr.fit(X_train,Y_train)\n",
    "svr_pred = svr.predict(X_test)"
   ]
  },
  {
   "cell_type": "code",
   "execution_count": 23,
   "metadata": {},
   "outputs": [
    {
     "name": "stdout",
     "output_type": "stream",
     "text": [
      "94.169998\n",
      "70.73590162930513\n"
     ]
    }
   ],
   "source": [
    "print(Y_test[0])\n",
    "print(svr_pred[0])"
   ]
  },
  {
   "cell_type": "code",
   "execution_count": 24,
   "metadata": {},
   "outputs": [
    {
     "name": "stdout",
     "output_type": "stream",
     "text": [
      "MSE 1466.4806240377825\n",
      "RMSE 38.29465529336676\n",
      "r2_Score 0.008361684264721836\n"
     ]
    }
   ],
   "source": [
    "#evaluation metrics for SVR \n",
    "evaluation_metrics(Y_test,svr_pred)"
   ]
  },
  {
   "cell_type": "code",
   "execution_count": 26,
   "metadata": {},
   "outputs": [],
   "source": [
    "import joblib\n",
    "joblib.dump(ri,'model.joblib')\n",
    "ridge_from_joblib = model = joblib.load('model.joblib')"
   ]
  }
 ],
 "metadata": {
  "kernelspec": {
   "display_name": "base",
   "language": "python",
   "name": "python3"
  },
  "language_info": {
   "codemirror_mode": {
    "name": "ipython",
    "version": 3
   },
   "file_extension": ".py",
   "mimetype": "text/x-python",
   "name": "python",
   "nbconvert_exporter": "python",
   "pygments_lexer": "ipython3",
   "version": "3.11.5"
  }
 },
 "nbformat": 4,
 "nbformat_minor": 2
}
